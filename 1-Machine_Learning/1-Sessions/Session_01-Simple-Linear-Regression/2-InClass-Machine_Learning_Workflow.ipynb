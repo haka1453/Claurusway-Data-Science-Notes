{
 "cells": [
  {
   "cell_type": "markdown",
   "id": "7c313a1d",
   "metadata": {},
   "source": [
    "1. Train | Test Split\n",
    "    - X_train, X_test, y_train, y_test = train_test_split()\n",
    "2. Scaling (if needed)\n",
    "    - Scaler = scaler_name()\n",
    "    - scaler.fit_transform(X_train)\n",
    "    - scaler.transform(X_test)\n",
    "3. Modeling\n",
    "    - model = model_name().fit(X_train, y_train)\n",
    "    - y_pred = model.predict(X_test) (Regression and Classification)\n",
    "    - y_pred_proba = model.predict_proba(X_test) (Classification)\n",
    "4. Model Performance\n",
    "    - **Regression      :** r2_score, MAE, MSE, RMSE\n",
    "    - **Classification  :** accuracy, recall, precision, f1_score (confusion_matrix, classification_report)\n",
    "    - **Cross Validate  :** cross_val_score, cross_validate\n",
    "5. Tuning (if needed)\n",
    "    - grid_param = {}\n",
    "    - GridsearchCV (grid_param)\n",
    "6. Final Model\n",
    "    - model = model_name().fit(X,y)"
   ]
  }
 ],
 "metadata": {
  "kernelspec": {
   "display_name": "Python 3 (ipykernel)",
   "language": "python",
   "name": "python3"
  },
  "language_info": {
   "codemirror_mode": {
    "name": "ipython",
    "version": 3
   },
   "file_extension": ".py",
   "mimetype": "text/x-python",
   "name": "python",
   "nbconvert_exporter": "python",
   "pygments_lexer": "ipython3",
   "version": "3.9.12"
  }
 },
 "nbformat": 4,
 "nbformat_minor": 5
}
